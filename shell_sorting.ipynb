{
  "nbformat": 4,
  "nbformat_minor": 0,
  "metadata": {
    "colab": {
      "provenance": [],
      "authorship_tag": "ABX9TyO3w1+YDL+ouiN1WTSP+48F",
      "include_colab_link": true
    },
    "kernelspec": {
      "name": "python3",
      "display_name": "Python 3"
    },
    "language_info": {
      "name": "python"
    }
  },
  "cells": [
    {
      "cell_type": "markdown",
      "metadata": {
        "id": "view-in-github",
        "colab_type": "text"
      },
      "source": [
        "<a href=\"https://colab.research.google.com/github/OlgaALazareva/Colab/blob/main/shell_sorting.ipynb\" target=\"_parent\"><img src=\"https://colab.research.google.com/assets/colab-badge.svg\" alt=\"Open In Colab\"/></a>"
      ]
    },
    {
      "cell_type": "code",
      "execution_count": 6,
      "metadata": {
        "colab": {
          "base_uri": "https://localhost:8080/"
        },
        "id": "Em5grFJ_YB-r",
        "outputId": "f1b82e71-d933-41f8-822e-7fdbd865b1aa"
      },
      "outputs": [
        {
          "output_type": "stream",
          "name": "stdout",
          "text": [
            "given:\n",
            " [1000, 4, -645, -1, 534, 645, 77, 883, 0, 99, -1, 11, -234, -98, 77, 0, 1]\n",
            "sorted:\n",
            " [-645, -234, -98, -1, -1, 0, 0, 1, 4, 11, 77, 77, 99, 534, 645, 883, 1000]\n"
          ]
        }
      ],
      "source": [
        "def shell_sort(data):\n",
        "    print(\"given:\\n\", data)\n",
        "    gap = len(data)//2\n",
        "    while gap > 0:\n",
        "        for i in range(gap, len(data)):\n",
        "            j = i\n",
        "            while j >= gap and data[j-gap] > data[i]:\n",
        "                data[j], data[j-gap] = data[j-gap],data[j]\n",
        "                j -= gap\n",
        "        gap //= 2\n",
        "    return data\n",
        "    print(data)\n",
        "\n",
        "print(\"sorted:\\n\", shell_sort([1000,4,-645,-1,534,645,77,883,0,99,-1,11,-234,-98,77,0,1]))"
      ]
    }
  ]
}